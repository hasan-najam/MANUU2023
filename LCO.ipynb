{
  "nbformat": 4,
  "nbformat_minor": 0,
  "metadata": {
    "colab": {
      "provenance": []
    },
    "kernelspec": {
      "name": "python3",
      "display_name": "Python 3"
    },
    "language_info": {
      "name": "python"
    }
  },
  "cells": [
    {
      "cell_type": "code",
      "execution_count": null,
      "metadata": {
        "id": "ufZt4bNRarUd"
      },
      "outputs": [],
      "source": [
        "%matplotlib inline\n",
        "import matplotlib.pyplot as plt\n",
        "from astropy.io import fits\n",
        "from astropy import wcs\n",
        "import aplpy\n",
        "import numpy as np"
      ]
    },
    {
      "cell_type": "code",
      "source": [
        "!pip install aplpy"
      ],
      "metadata": {
        "id": "UVtILsFkbmZv",
        "colab": {
          "base_uri": "https://localhost:8080/"
        },
        "outputId": "ebbf359f-d343-4d75-be08-2a8469ee088f"
      },
      "execution_count": null,
      "outputs": [
        {
          "output_type": "stream",
          "name": "stdout",
          "text": [
            "Collecting aplpy\n",
            "  Downloading aplpy-2.1.0-py3-none-any.whl (63 kB)\n",
            "\u001b[?25l     \u001b[90m━━━━━━━━━━━━━━━━━━━━━━━━━━━━━━━━━━━━━━━━\u001b[0m \u001b[32m0.0/63.6 kB\u001b[0m \u001b[31m?\u001b[0m eta \u001b[36m-:--:--\u001b[0m\r\u001b[2K     \u001b[90m━━━━━━━━━━━━━━━━━━━━━━━━━━━━━━━━━━━━━━━━\u001b[0m \u001b[32m63.6/63.6 kB\u001b[0m \u001b[31m1.6 MB/s\u001b[0m eta \u001b[36m0:00:00\u001b[0m\n",
            "\u001b[?25hRequirement already satisfied: numpy in /usr/local/lib/python3.10/dist-packages (from aplpy) (1.23.5)\n",
            "Requirement already satisfied: astropy>=3.1 in /usr/local/lib/python3.10/dist-packages (from aplpy) (5.3.2)\n",
            "Requirement already satisfied: matplotlib>=2.0 in /usr/local/lib/python3.10/dist-packages (from aplpy) (3.7.1)\n",
            "Collecting reproject>=0.4 (from aplpy)\n",
            "  Downloading reproject-0.12.0-cp310-cp310-manylinux_2_17_x86_64.manylinux2014_x86_64.whl (1.5 MB)\n",
            "\u001b[2K     \u001b[90m━━━━━━━━━━━━━━━━━━━━━━━━━━━━━━━━━━━━━━━━\u001b[0m \u001b[32m1.5/1.5 MB\u001b[0m \u001b[31m8.8 MB/s\u001b[0m eta \u001b[36m0:00:00\u001b[0m\n",
            "\u001b[?25hCollecting pyregion>=2.0 (from aplpy)\n",
            "  Downloading pyregion-2.2.0.tar.gz (978 kB)\n",
            "\u001b[2K     \u001b[90m━━━━━━━━━━━━━━━━━━━━━━━━━━━━━━━━━━━━━━\u001b[0m \u001b[32m978.1/978.1 kB\u001b[0m \u001b[31m13.5 MB/s\u001b[0m eta \u001b[36m0:00:00\u001b[0m\n",
            "\u001b[?25h  Installing build dependencies ... \u001b[?25l\u001b[?25hdone\n",
            "  Getting requirements to build wheel ... \u001b[?25l\u001b[?25hdone\n",
            "  Preparing metadata (pyproject.toml) ... \u001b[?25l\u001b[?25hdone\n",
            "Requirement already satisfied: pillow>=4.3 in /usr/local/lib/python3.10/dist-packages (from aplpy) (9.4.0)\n",
            "Collecting pyavm>=0.9.4 (from aplpy)\n",
            "  Downloading PyAVM-0.9.5-py2.py3-none-any.whl (378 kB)\n",
            "\u001b[2K     \u001b[90m━━━━━━━━━━━━━━━━━━━━━━━━━━━━━━━━━━━━━━\u001b[0m \u001b[32m378.5/378.5 kB\u001b[0m \u001b[31m16.9 MB/s\u001b[0m eta \u001b[36m0:00:00\u001b[0m\n",
            "\u001b[?25hRequirement already satisfied: scikit-image>=0.14 in /usr/local/lib/python3.10/dist-packages (from aplpy) (0.19.3)\n",
            "Requirement already satisfied: shapely>=1.7 in /usr/local/lib/python3.10/dist-packages (from aplpy) (2.0.1)\n",
            "Requirement already satisfied: pyerfa>=2.0 in /usr/local/lib/python3.10/dist-packages (from astropy>=3.1->aplpy) (2.0.0.3)\n",
            "Requirement already satisfied: PyYAML>=3.13 in /usr/local/lib/python3.10/dist-packages (from astropy>=3.1->aplpy) (6.0.1)\n",
            "Requirement already satisfied: packaging>=19.0 in /usr/local/lib/python3.10/dist-packages (from astropy>=3.1->aplpy) (23.1)\n",
            "Requirement already satisfied: contourpy>=1.0.1 in /usr/local/lib/python3.10/dist-packages (from matplotlib>=2.0->aplpy) (1.1.0)\n",
            "Requirement already satisfied: cycler>=0.10 in /usr/local/lib/python3.10/dist-packages (from matplotlib>=2.0->aplpy) (0.11.0)\n",
            "Requirement already satisfied: fonttools>=4.22.0 in /usr/local/lib/python3.10/dist-packages (from matplotlib>=2.0->aplpy) (4.42.1)\n",
            "Requirement already satisfied: kiwisolver>=1.0.1 in /usr/local/lib/python3.10/dist-packages (from matplotlib>=2.0->aplpy) (1.4.5)\n",
            "Requirement already satisfied: pyparsing>=2.3.1 in /usr/local/lib/python3.10/dist-packages (from matplotlib>=2.0->aplpy) (3.1.1)\n",
            "Requirement already satisfied: python-dateutil>=2.7 in /usr/local/lib/python3.10/dist-packages (from matplotlib>=2.0->aplpy) (2.8.2)\n",
            "Collecting astropy-healpix>=0.6 (from reproject>=0.4->aplpy)\n",
            "  Downloading astropy_healpix-1.0.0-cp39-abi3-manylinux_2_17_x86_64.manylinux2014_x86_64.whl (195 kB)\n",
            "\u001b[2K     \u001b[90m━━━━━━━━━━━━━━━━━━━━━━━━━━━━━━━━━━━━━━\u001b[0m \u001b[32m195.8/195.8 kB\u001b[0m \u001b[31m19.1 MB/s\u001b[0m eta \u001b[36m0:00:00\u001b[0m\n",
            "\u001b[?25hRequirement already satisfied: scipy>=1.5 in /usr/local/lib/python3.10/dist-packages (from reproject>=0.4->aplpy) (1.10.1)\n",
            "Requirement already satisfied: dask[array]>=2021.8 in /usr/local/lib/python3.10/dist-packages (from reproject>=0.4->aplpy) (2023.8.1)\n",
            "Requirement already satisfied: cloudpickle in /usr/local/lib/python3.10/dist-packages (from reproject>=0.4->aplpy) (2.2.1)\n",
            "Collecting zarr (from reproject>=0.4->aplpy)\n",
            "  Downloading zarr-2.16.1-py3-none-any.whl (206 kB)\n",
            "\u001b[2K     \u001b[90m━━━━━━━━━━━━━━━━━━━━━━━━━━━━━━━━━━━━━━\u001b[0m \u001b[32m206.9/206.9 kB\u001b[0m \u001b[31m18.4 MB/s\u001b[0m eta \u001b[36m0:00:00\u001b[0m\n",
            "\u001b[?25hRequirement already satisfied: fsspec in /usr/local/lib/python3.10/dist-packages (from reproject>=0.4->aplpy) (2023.6.0)\n",
            "Requirement already satisfied: networkx>=2.2 in /usr/local/lib/python3.10/dist-packages (from scikit-image>=0.14->aplpy) (3.1)\n",
            "Requirement already satisfied: imageio>=2.4.1 in /usr/local/lib/python3.10/dist-packages (from scikit-image>=0.14->aplpy) (2.31.3)\n",
            "Requirement already satisfied: tifffile>=2019.7.26 in /usr/local/lib/python3.10/dist-packages (from scikit-image>=0.14->aplpy) (2023.8.30)\n",
            "Requirement already satisfied: PyWavelets>=1.1.1 in /usr/local/lib/python3.10/dist-packages (from scikit-image>=0.14->aplpy) (1.4.1)\n",
            "Requirement already satisfied: click>=8.0 in /usr/local/lib/python3.10/dist-packages (from dask[array]>=2021.8->reproject>=0.4->aplpy) (8.1.7)\n",
            "Requirement already satisfied: partd>=1.2.0 in /usr/local/lib/python3.10/dist-packages (from dask[array]>=2021.8->reproject>=0.4->aplpy) (1.4.0)\n",
            "Requirement already satisfied: toolz>=0.10.0 in /usr/local/lib/python3.10/dist-packages (from dask[array]>=2021.8->reproject>=0.4->aplpy) (0.12.0)\n",
            "Requirement already satisfied: importlib-metadata>=4.13.0 in /usr/local/lib/python3.10/dist-packages (from dask[array]>=2021.8->reproject>=0.4->aplpy) (6.8.0)\n",
            "Requirement already satisfied: six>=1.5 in /usr/local/lib/python3.10/dist-packages (from python-dateutil>=2.7->matplotlib>=2.0->aplpy) (1.16.0)\n",
            "Collecting asciitree (from zarr->reproject>=0.4->aplpy)\n",
            "  Downloading asciitree-0.3.3.tar.gz (4.0 kB)\n",
            "  Preparing metadata (setup.py) ... \u001b[?25l\u001b[?25hdone\n",
            "Collecting fasteners (from zarr->reproject>=0.4->aplpy)\n",
            "  Downloading fasteners-0.18-py3-none-any.whl (18 kB)\n",
            "Collecting numcodecs>=0.10.0 (from zarr->reproject>=0.4->aplpy)\n",
            "  Downloading numcodecs-0.11.0-cp310-cp310-manylinux_2_17_x86_64.manylinux2014_x86_64.whl (6.7 MB)\n",
            "\u001b[2K     \u001b[90m━━━━━━━━━━━━━━━━━━━━━━━━━━━━━━━━━━━━━━━━\u001b[0m \u001b[32m6.7/6.7 MB\u001b[0m \u001b[31m31.7 MB/s\u001b[0m eta \u001b[36m0:00:00\u001b[0m\n",
            "\u001b[?25hRequirement already satisfied: zipp>=0.5 in /usr/local/lib/python3.10/dist-packages (from importlib-metadata>=4.13.0->dask[array]>=2021.8->reproject>=0.4->aplpy) (3.16.2)\n",
            "Requirement already satisfied: entrypoints in /usr/local/lib/python3.10/dist-packages (from numcodecs>=0.10.0->zarr->reproject>=0.4->aplpy) (0.4)\n",
            "Requirement already satisfied: locket in /usr/local/lib/python3.10/dist-packages (from partd>=1.2.0->dask[array]>=2021.8->reproject>=0.4->aplpy) (1.0.0)\n",
            "Building wheels for collected packages: pyregion, asciitree\n",
            "  Building wheel for pyregion (pyproject.toml) ... \u001b[?25l\u001b[?25hdone\n",
            "  Created wheel for pyregion: filename=pyregion-2.2.0-cp310-cp310-linux_x86_64.whl size=433699 sha256=6e4077ed7bf5e00218ab044887da1adb9b8dcd04eb3eeafb903041d0413e6358\n",
            "  Stored in directory: /root/.cache/pip/wheels/d9/70/ba/133c9854fc976d08620a301e977d089103a5bf96cc55f68224\n",
            "  Building wheel for asciitree (setup.py) ... \u001b[?25l\u001b[?25hdone\n",
            "  Created wheel for asciitree: filename=asciitree-0.3.3-py3-none-any.whl size=5034 sha256=ce6d2daa204d50dd292cfb4c0ca4dd23dac14ce17c71cc6daece22a6146d803e\n",
            "  Stored in directory: /root/.cache/pip/wheels/7f/4e/be/1171b40f43b918087657ec57cf3b81fa1a2e027d8755baa184\n",
            "Successfully built pyregion asciitree\n",
            "Installing collected packages: pyavm, asciitree, numcodecs, fasteners, zarr, pyregion, astropy-healpix, reproject, aplpy\n",
            "Successfully installed aplpy-2.1.0 asciitree-0.3.3 astropy-healpix-1.0.0 fasteners-0.18 numcodecs-0.11.0 pyavm-0.9.5 pyregion-2.2.0 reproject-0.12.0 zarr-2.16.1\n"
          ]
        }
      ]
    },
    {
      "cell_type": "code",
      "source": [
        "# url = 'https://xxxxx.............'\n",
        "# hdul = fits.open(url)"
      ],
      "metadata": {
        "id": "hJCEiQ73NxK0"
      },
      "execution_count": null,
      "outputs": []
    },
    {
      "cell_type": "code",
      "source": [
        "filename = 'test.fits.fz'"
      ],
      "metadata": {
        "id": "04lmUEQda9--"
      },
      "execution_count": null,
      "outputs": []
    },
    {
      "cell_type": "code",
      "source": [
        "hdu = fits.open(filename)"
      ],
      "metadata": {
        "id": "0jCD7lELbSlS"
      },
      "execution_count": null,
      "outputs": []
    },
    {
      "cell_type": "code",
      "source": [
        "hdu.info()"
      ],
      "metadata": {
        "colab": {
          "base_uri": "https://localhost:8080/"
        },
        "id": "GR7NVYmJdkrZ",
        "outputId": "c2ff1ce4-e759-4ab5-9936-0e9a2877261c"
      },
      "execution_count": null,
      "outputs": [
        {
          "output_type": "stream",
          "name": "stdout",
          "text": [
            "Filename: test.fits.fz\n",
            "No.    Name      Ver    Type      Cards   Dimensions   Format\n",
            "  0  PRIMARY       1 PrimaryHDU       4   ()      \n",
            "  1  SCI           1 CompImageHDU    259   (3054, 2042)   float32   \n",
            "  2  BPM           1 CompImageHDU      9   (3054, 2042)   uint8   \n",
            "  3  ERR           1 CompImageHDU     10   (3054, 2042)   float32   \n"
          ]
        }
      ]
    },
    {
      "cell_type": "code",
      "source": [
        "hdu[0].header"
      ],
      "metadata": {
        "colab": {
          "base_uri": "https://localhost:8080/"
        },
        "id": "epzeaDmEbSwX",
        "outputId": "9e497d6d-ae97-41a3-da71-2fba3388c403"
      },
      "execution_count": null,
      "outputs": [
        {
          "output_type": "execute_result",
          "data": {
            "text/plain": [
              "SIMPLE  =                    T / conforms to FITS standard                      \n",
              "BITPIX  =                    8 / array data type                                \n",
              "NAXIS   =                    0 / number of array dimensions                     \n",
              "EXTEND  =                    T                                                  "
            ]
          },
          "metadata": {},
          "execution_count": 26
        }
      ]
    },
    {
      "cell_type": "code",
      "source": [
        "hdu[1].header"
      ],
      "metadata": {
        "colab": {
          "base_uri": "https://localhost:8080/"
        },
        "id": "PhSOJhpKPNLJ",
        "outputId": "9101f7f1-a1b5-4a05-c391-2c1ffae54a11"
      },
      "execution_count": null,
      "outputs": [
        {
          "output_type": "execute_result",
          "data": {
            "text/plain": [
              "SIMPLE  =                    T / conforms to FITS standard                      \n",
              "BITPIX  =                  -32 / array data type                                \n",
              "NAXIS   =                    2 / number of array dimensions                     \n",
              "NAXIS1  =                 3054                                                  \n",
              "NAXIS2  =                 2042                                                  \n",
              "ZDITHER0=                 8139 / dithering offset when quantizing floats        \n",
              "DATADICV= 'LCOGT-DIC.FITS-0.11.0' / Version number of the data dictionary       \n",
              "HDRVER  = 'LCOGT-HDR-1.4.0'    / Version number of the headers                  \n",
              "ORIGIN  = 'LCOGT   '           / Organization responsible for the data          \n",
              "SITEID  = 'ogg     '           / ID code of the Observatory site                \n",
              "SITE    = 'LCOGT node at Haleakala Observatory' / Site of the Observatory       \n",
              "ENCID   = 'clma    '           / ID code of the Enclosure                       \n",
              "ENCLOSUR= 'Clamshell-01'       / Building containing Telescope                  \n",
              "TELID   = '0m4b    '           / ID code of the Telescope                       \n",
              "TELESCOP= '0m4-06  '           / The Name of the Telescope                      \n",
              "LATITUDE=           20.7069583 / [deg North] Telescope Latitude                 \n",
              "LONGITUD=         -156.2575140 / [deg East] Telescope Longitude                 \n",
              "HEIGHT  =             3037.000 / [m] Altitude of Telescope above sea level      \n",
              "OBSGEO-X=         -5466057.056 / [m] Cartesian X co-ord of telescope (WGS84)    \n",
              "OBSGEO-Y=         -2404267.089 / [m] Cartesian Y co-ord of telescope (WGS84)    \n",
              "OBSGEO-Z=          2242150.046 / [m] Cartesian Z co-ord of telescope (WGS84)    \n",
              "OBSTYPE = 'EXPOSE  '           / Observation type                               \n",
              "FRAMENUM=                   64 / Running frame number                           \n",
              "MOLTYPE = 'EXPOSE  '           / Molecule type                                  \n",
              "MOLNUM  =                   45 / Molecule number                                \n",
              "MOLFRNUM=                    1 / Exposure number within molecule                \n",
              "FRMTOTAL=                    1 / Total number of exposures within molecule      \n",
              "ORIGNAME= 'ogg0m406-kb27-20230820-0064-e00.fits' / Fname written by ICS         \n",
              "OBSTELEM= 'N/A     '           / Link to observation telemetry                  \n",
              "TIMESYS = 'UTC     '           / Time system used                               \n",
              "DATE    = '2023-08-23T09:31:38.566171' / [UTC] Date this FITS file was written  \n",
              "DATE-OBS= '2023-08-21T05:56:28.702' / [UTC] Start date and time of the observati\n",
              "DAY-OBS = '20230820'           / [UTC] Date at start of local observing night   \n",
              "UTSTART = '05:56:28.702'       / [UTC] The start time of the observation        \n",
              "UTSTOP  = '05:59:08.938'       / [UTC] The finish time of the observation       \n",
              "MJD-OBS =        60177.2475545 / [UTC days] Start date/time (Modified Julian Dat\n",
              "EXPTIME =              160.236 / [s] Actual exposure length                     \n",
              "REQTIME =              160.300 / [s] Requested exposure length                  \n",
              "FILTER1 = 'V       '           / The first filter wheel filter type             \n",
              "FILTERI1= 'JNSN-VX-124'        / The first filter wheel filter id               \n",
              "FILTER2 = 'NOTPRESENT'         / The second filter wheel filter type            \n",
              "FILTERI2= 'NOTPRESENT'         / The second filter wheel filter id              \n",
              "FILTER3 = 'NOTPRESENT'         / The third filter wheel filter type             \n",
              "FILTERI3= 'NOTPRESENT'         / The third filter wheel filter id               \n",
              "FILTER  = 'V       '           / Filter used                                    \n",
              "FWID    = 'p4fw50-26'          / Filter Wheel ID                                \n",
              "INSTRUME= 'kb27    '           / Instrument used                                \n",
              "INSSTATE= 'OKAY    '           / The instrument status                          \n",
              "ICSVER  = '2.1.0@0xd6325ee'    / Version number of the ICS software             \n",
              "CONFMODE= 'default '           / Camera mode configuration                      \n",
              "CONFNAME= 'N/A     '           / The instrument configuration used              \n",
              "DETECTOR= 'UNKNOWN '           / Detector type                                  \n",
              "DETECTID= 'ccdkb27-1'          / Detector serial number                         \n",
              "GAIN    =                  1.0 / [electrons/count] Pixel gain                   \n",
              "RDNOISE =           14.5000000 / [electrons/pixel] Read noise                   \n",
              "DARKCURR=            0.0000000 / [electrons/pixel/s @ 200K] Dark current        \n",
              "SATURATE=             102400.0 / [ADU] Saturation level                         \n",
              "MAXLIN  =             102400.0 / [ADU] Non-linearity level                      \n",
              "RDSPEED =           30.0000000 / [kpix/s] Readout speed used                    \n",
              "DETSIZE = '[1:0,1:0]'          / [pixel] Detector size                          \n",
              "AMPNAME = 'default '           / Amplifier name                                 \n",
              "CCDSEC  = '[1:0,1:0]'          / [pixel] Region of CCD read                     \n",
              "CCDSUM  = '1 1     '           / CCD on-chip summing/binning                    \n",
              "BIASSEC = '[3100:3135,1:2048]' / [binned pixel] Section of bias/overscan data   \n",
              "DATASEC = '[1:3054,1:2042]'    / [binned pixel] Data section                    \n",
              "TRIMSEC = '[18:3071,5:2046]'   / [binned pixel] Section of useful data          \n",
              "ROI     = 'UNKNOWN '           / [binned pixel] Region of interest or MULTIPLE  \n",
              "DETSEC  = '[18:3071,5:2046]'   / [binned pixel] Section of useful data          \n",
              "CCDXPIXE=            0.0000090 / [m] Size of pixels, in X                       \n",
              "CCDYPIXE=            0.0000090 / [m] Size of pixels, in Y                       \n",
              "PIXSCALE=            0.5800000 / [arcsec/pixel] Nominal pixel scale on sky      \n",
              "CCDSTEMP=          -20.0045808 / [deg C] CCD required temperature               \n",
              "CCDATEMP=          -20.0320677 / [deg C] CCD actual temperature                 \n",
              "CCDSESIG= 'N/A     '           / [mK] CCD temp control servo error signal       \n",
              "DRKTCOEF=            0.0000000 / [1/deg C] Dark-scaling temperature coefficient \n",
              "TELMODE = 'AUTOMATIC'          / Telescope mode                                 \n",
              "TAGID   = 'UNSPECIFIED'        / Time Allocation Group ID                       \n",
              "USERID  = 'Ramiro  '           / User ID                                        \n",
              "PROPID  = 'LCOEPO2021B-007'    / Proposal ID                                    \n",
              "GROUPID = 'C  mulo Globular M13' / Group ID                                     \n",
              "OBSID   = 'UNSPECIFIED'        / Observation ID                                 \n",
              "OBSNOTE = 'UNSPECIFIED'        / Observation Note                               \n",
              "SCHEDNAM= 'POND    '           / Name of scheduler in control                   \n",
              "TRACKNUM= '1769720 '           / Request DB tracking number                     \n",
              "REQNUM  = '3311446 '           / Request DB request number                      \n",
              "MOLUID  = '696911661'          / Molecule unique ID                             \n",
              "BLKTYPE = 'POND    '           / Group type                                     \n",
              "BLKUID  = '542052141'          / Group unique ID                                \n",
              "BLKSDATE= '2023-08-21T05:53:01' / [UTC] Block start date                        \n",
              "BLKEDATE= '2023-08-21T06:03:36' / [UTC] Block end date                          \n",
              "BLKNOMEX=          635.0000000 / [s] Block nominal exec time                    \n",
              "BLKMNPH =            1.0000000 / [(0-1)] Maximum lunar phase required           \n",
              "BLKMNDST=           30.0000000 / [deg] Minimum lunar distance required          \n",
              "BLKSEECO= 'N/A     '           / Minimum seeing required                        \n",
              "BLKTRNCO= 'N/A     '           / Minimum transparency required                  \n",
              "BLKAIRCO= '1.2     '           / Maximum airmass required                       \n",
              "SCHEDSEE=            2.6094856 / [arcsec] Estimated seeing when group scheduled \n",
              "SCHEDTRN= 'N/A     '           / [(0-1)] Estimated transparency when group sched\n",
              "TRIGGER = 'N/A     '           / External trigger ID                            \n",
              "MOSAIC  = 'UNSPECIFIED'        / Mosaic Pattern Description                     \n",
              "DITHER  = 'UNSPECIFIED'        / Dither Pattern Description                     \n",
              "OBRECIPE= 'N/A     '           / Observing Recipes required/used                \n",
              "PCRECIPE= 'N/A     '           / Processing Recipes required/used               \n",
              "PPRECIPE= 'N/A     '           / Post-Processing Recipes required/used          \n",
              "RA      = '16:41:41.632'       / [HH:MM:SS.sss] RA where telescope is pointing  \n",
              "DEC     = '+36:27:40.78'       / [sDD:MM:SS.ss] Dec where telescope is pointing \n",
              "RADESYS = 'ICRS    '           / [[FK5,ICRS]] Fundamental coord. system of the o\n",
              "LST     = '17:28:39.40'        / [HH:MM:SS.ss] LST at start of current observati\n",
              "CAT-RA  = '16:41:41.628'       / [HH:MM:SS.sss] Catalog RA of the object        \n",
              "CAT-DEC = '+36:27:40.69'       / [sDD:MM:SS.ss] Catalog Dec of the object       \n",
              "CAT-EPOC=         2000.0000000 / [Year] Catalog epoch of the coordinates        \n",
              "OFST-RA = '16:41:41.628'       / [HH:MM:SS.sss] Catalog RA plus pointing offsets\n",
              "OFST-DEC= '+36:27:40.69'       / [sDD:MM:SS.ss] Catalog Dec plus pointing offset\n",
              "TPT-RA  = '16:43:20.619'       / [HH:MM:SS.sss] Telescope demand RA             \n",
              "TPT-DEC = '+36:14:32.19'       / [sDD:MM:SS.ss] Telescope demand Dec            \n",
              "OBJECT  = 'M13     '           / Object name                                    \n",
              "SRCTYPE = 'EXTRASOLAR'         / Source type                                    \n",
              "PM-RA   =           -0.0039540 / [sec/year] Proper motion in RA of the object   \n",
              "PM-DEC  =           -0.0025600 / [arcsec/year] Proper motion in Dec of the objec\n",
              "PARALLAX=            0.0001270 / [arcsec] Parallax of the object                \n",
              "RADVEL  =            0.0000000 / [km/s] Radial velocity of the object           \n",
              "RATRACK =            0.0000000 / [arcsec/s] Non-sidereal tracking in RA         \n",
              "DECTRACK=            0.0000000 / [arcsec/s] Non-sidereal tracking in Dec        \n",
              "TRACFRAC=            1.0000000 / Fraction of ephemeris rate applied             \n",
              "TELSTATE= 'OKAY    '           / Current telescope status                       \n",
              "ENGSTATE= 'UNKNOWN '           / Engineering override state                     \n",
              "TCSSTATE= 'OKAY    '           / TCS state                                      \n",
              "TCSVER  = '2.1     '           / Version number of the TCS software             \n",
              "TPNTMODL= '20230820145008'     / Version number of the pointing model           \n",
              "UT1-UTC =           -0.0040400 / [s] UT1-UTC                                    \n",
              "POLARMOX=            0.2880000 / [arcsec] Polar motion X                        \n",
              "POLARMOY=            0.4369000 / [arcsec] Polar motion Y                        \n",
              "EOPSRC  = 'IERS BULL. A 2023/08/17' / Source of the EOP Values                  \n",
              "ROLLERDR=            6.0027104 / [rad] Driven roller encoder angle              \n",
              "ROLLERND=            6.2292919 / [rad] Non-driven roller encoder angle          \n",
              "AZDMD   =          329.8337517 / [deg] Azimuth axis demand                      \n",
              "AZIMUTH =          329.8338338 / [deg] Azimuth axis position                    \n",
              "AZSTAT  = 'OKAY    '           / Azimuth axis state                             \n",
              "ALTDMD  =           71.3445058 / [deg] Altitude axis demand                     \n",
              "ALTITUDE=           71.3444932 / [deg] Altitude axis position                   \n",
              "ALTSTAT = 'OKAY    '           / Altitude axis state                            \n",
              "ROTTYPE = 'NONE    '           / Selected image derotator                       \n",
              "ROTMODE = 'FIXED   '           / Rotator mode                                   \n",
              "ROTDMD  =            0.0000000 / [deg] Rotator axis demand                      \n",
              "ROTANGLE= 'N/A     '           / [deg] Rotator axis position                    \n",
              "ROTSKYPA=          -90.0000000 / [deg] Rotator position angle                   \n",
              "ROTSTAT = 'OFF     '           / Rotator axis state                             \n",
              "AIRMASS =            1.0563950 / Effective mean airmass                         \n",
              "AMSTART =            1.0553450 / Airmass at start of observation                \n",
              "AMEND   =            1.0574451 / Airmass at end of observation                  \n",
              "ENC1STAT= 'OPEN    '           / Enclosure shutter 1 state                      \n",
              "ENC2STAT= 'OPEN    '           / Enclosure shutter 2 state                      \n",
              "ENCAZ   =          109.9387629 / [deg] Enclosure azimuth                        \n",
              "ENCWLIGT= 'UNKNOWN '           / Enclosure white lights state                   \n",
              "ENCRLIGT= 'UNKNOWN '           / Enclosure red lights state                     \n",
              "FSTATION= 'CASSEGRAIN'         / Focal station, e.g. Cassegrain, Nasmyth WS     \n",
              "FOLDSTAT= 'ERROR   '           / Fold mirror state                              \n",
              "FOLDPORT= '1       '           / Fold mirror port                               \n",
              "FOLDPOSN= '02.0, N/A'          / [{mm,deg}] Fold mirror position (r, theta)     \n",
              "M1COVER = 'STOWED  '           / M1 mirror cover state                          \n",
              "M1HRTMN = 'UNKNOWN '           / M1 Hartmann screen state                       \n",
              "FOCDMD  =            0.0000000 / [mm] Demanded focus position in focal plane    \n",
              "FOCPOSN =            0.0031941 / [mm] Actual focus position in focal plane      \n",
              "FOCTELZP=            2.3600000 / [mm] Telescope default focus                   \n",
              "FOCINOFF=            0.0000000 / [mm] Instrument focus offset                   \n",
              "FOCTOFF =           -0.0353760 / [mm] Thermal correction value                  \n",
              "FOCZOFF =            0.0035513 / [mm] Zenith compression correction             \n",
              "FOCAFOFF=           -1.0418879 / [mm] Autofocus offset in focal plane           \n",
              "FOCOBOFF=            0.0000000 / [mm] Observer focus offset/defocus in focal pla\n",
              "FOCFLOFF=           -1.0000000 / [mm] Filter focus offset in focal plane        \n",
              "FOCSTAT = 'HALTED  '           / Focus state                                    \n",
              "M2PITCH =          899.8370000 / [arcsec] M2 tilt about vertex in pitch directio\n",
              "M2ROLL  =         -359.8100000 / [arcsec] M2 tilt about vertex in roll direction\n",
              "AUXROLL =            0.0000000 / [arcsec] Auxiliary pointing corrections in roll\n",
              "AUXPITCH=            0.0000000 / [arcsec] Auxiliary pointing corrections in pitc\n",
              "CTYPE1  = 'RA---TAN'           / Type of WCS Projection                         \n",
              "CTYPE2  = 'DEC--TAN'           / Type of WCS Projection                         \n",
              "CRPIX1  =         1536.0000000 / [pixel] Coordinate of reference point (axis 1) \n",
              "CRPIX2  =         1024.0000000 / [pixel] Coordinate of reference point (axis 2) \n",
              "CRVAL1  =          250.4234491 / [deg] RA at the reference pixel                \n",
              "CRVAL2  =           36.4613021 / [deg] Dec at the reference pixel               \n",
              "CUNIT1  = 'deg     '           / Units of RA                                    \n",
              "CUNIT2  = 'deg     '           / Units of Dec                                   \n",
              "CD1_1   =            0.0000000 / WCS CD transformation matrix                   \n",
              "CD1_2   =            0.0001611 / WCS CD transformation matrix                   \n",
              "CD2_1   =           -0.0001611 / WCS CD transformation matrix                   \n",
              "CD2_2   =            0.0000000 / WCS CD transformation matrix                   \n",
              "WMSSTATE= 'OKAY    '           / WMS system state                               \n",
              "WMSHUMID=           37.9000000 / [%] Current percentage humidity                \n",
              "WMSTEMP =           11.5000000 / [deg C] External temperature                   \n",
              "WMSPRES =          712.3000000 / [mbar] Atmospheric pressure                    \n",
              "WINDSPEE=            5.4000000 / [km/h] Windspeed                               \n",
              "WINDDIR =           56.0000000 / [deg E of N] Wind direction                    \n",
              "WMSRAIN = 'CLEAR   '           / Rain alert                                     \n",
              "WMSMOIST=         3015.3620000 / [mV] Moisture level                            \n",
              "WMSDEWPT=           -2.3412462 / [deg C] Dewpoint                               \n",
              "WMSCLOUD=          -34.9500000 / [deg C] Boltwood sky temperature               \n",
              "WMSSKYBR=           20.9770246 / [mag/arcsec^2] Measured sky brightness         \n",
              "SKYMAG  =           20.9770246 / [mag/arcsec^2] Computed (expected) sky brightne\n",
              "TUBETEMP=           10.5780004 / [deg C] Temperature of the telescope tube      \n",
              "M1TEMP  = 'UNKNOWN '           / [deg C] Primary mirror temperature             \n",
              "FOCTEMP =           10.5780004 / [deg C] Focus temperature                      \n",
              "ISSTEMP = 'UNKNOWN '           / [deg C] ISS temperature                        \n",
              "REFPRES =          712.3000000 / [mbar] Pressure used in refraction calculation \n",
              "REFTEMP =           11.5000000 / [deg C] Temperature used in refraction calculat\n",
              "REFHUMID=           37.9000000 / [%] Humidity used in refraction calculation    \n",
              "AGSTATE = 'GUIDE_SOURCE_LOST_TEMP' / Autoguider software state                  \n",
              "AGCAM   = 'kb27    '           / Camera used for autoguiding                    \n",
              "AGLCKFRC=                 0.00 / [%] Fraction of time AG locked                 \n",
              "AGMODE  = 'MAYBE   '           / Autoguider mode                                \n",
              "AGRA    = 'UNKNOWN '           / [deg] RA of guide star                         \n",
              "AGDEC   = 'UNKNOWN '           / [deg] Dec of guide star                        \n",
              "AGGMAG  = 'UNKNOWN '           / [mag] Autoguider guide star mag                \n",
              "AGFWHM  =          213.2880707 / [arcsec] Autoguider FWHM                       \n",
              "AGNSRC  =                    0 / Number of potential guide stars                \n",
              "AGDX    =            0.0000000 / [pixel] Autoguider correction in X             \n",
              "AGDY    =            0.0000000 / [pixel] Autoguider correction in Y             \n",
              "AGMIRDMD= 'UNKNOWN '           / [mm] Autoguider mirror demand                  \n",
              "AGMIRPOS= '02.0, N/A'          / Autoguider mirror position                     \n",
              "AGMIRST = 'ERROR   '           / Autoguider mirror state                        \n",
              "AGFOCDMD= 'UNKNOWN '           / [mm] Autoguider focus demand                   \n",
              "AGFOCUS = 'UNKNOWN '           / [mm] Autoguider focus position                 \n",
              "AGFOCOFF=            0.0000000 / [mm] Autoguider relative focus offset          \n",
              "AGFOCST = 'UNKNOWN '           / Autoguider focus state                         \n",
              "AGFILTER= 'V       '           / Autoguider filter                              \n",
              "AGFILTID= 'JNSN-VX-124'        / Autoguider filter id                           \n",
              "AGFILST = 'Enabled '           / Autoguider filter state                        \n",
              "MOONSTAT= 'UP      '           / [{UP, DOWN}] Moon position at obs start        \n",
              "MOONFRAC=            0.1962039 / [(0 - 1)] Lunar Illuminated Fraction           \n",
              "MOONDIST=           65.8603845 / [deg] Lunar distance from target               \n",
              "MOONALT =           21.5370933 / [deg] Lunar altitude                           \n",
              "SUNDIST =           91.0070508 / [deg] Solar distance from target               \n",
              "SUNALT  =          -15.5288470 / [deg] Solar altitude                           \n",
              "EXTNAME = 'SCI     '           / Name of extension                              \n",
              "EXTVER  =                    1 / Instance of the extension                      \n",
              "RWSTART = '05:56:27.302'       / [UTC] Raw start time of the observation        \n",
              "RWSTOP  = '05:59:09.283'       / [UTC] Raw stop time of the observation         \n",
              "OFSTART =                 1400 / [ms] Camera start latency adjustment           \n",
              "OFSTOP  =                 -345 / [ms] Camera stop latency adjustment            \n",
              "CHECKSUM= 'A9enB8cmA8cmA8cm'   / HDU checksum updated 2023-08-21T05:59:23       \n",
              "DATASUM = '264940354'          / data unit checksum updated 2023-08-21T05:59:23 \n",
              "L1IDMASK= 'bpm_ogg_kb27_20180605_bin1x1.fits.fz' / Id. of mask file used        \n",
              "SATFRAC = 1.20786951144094E-06 / Fraction of Pixels that are Saturated          \n",
              "L1STATOV= '1       '           / Status flag for overscan correction            \n",
              "OVERSCAN=    1019.396475228001 / Overscan value that was subtracted             \n",
              "OVERSCN1= '1019.40 '           / Overscan value that was subtracted             \n",
              "BIASLVL =    8.441771136521577 / Bias level that was removed after overscan     \n",
              "L1IDBIAS= 'ogg0m406-kb27-20230815-bias-bin1x1.fits.fz' / ID of bias frame       \n",
              "L1STATBI=                    1 / Status flag for bias frame correction          \n",
              "L1IDDARK= 'ogg0m406-kb27-20230815-dark-bin1x1.fits.fz' / ID of dark frame       \n",
              "L1STATDA=                    1 / Status flag for dark frame correction          \n",
              "DRKTSCAL=                  1.0 / Temperature scaling factor applied to dark imag\n",
              "L1IDFLAT= 'ogg0m406-kb27-20230814-skyflat-bin1x1-V.fits.fz' / ID of flat frame  \n",
              "L1STATFL=                    1 / Status flag for flat field correction          \n",
              "WCSERR  =                    4 / Error status of WCS fit. 0 for no error        \n",
              "PNTOFST = 0.003569843088756031 / [arcsec] offset of requested and solved center \n",
              "RLEVEL  =                   91 / Reduction level                                \n",
              "PIPEVER = '1.11.1.dev4+g02125394' / Pipeline version                            \n",
              "L1PUBDAT= '2023-08-21T05:56:28.702' / [UTC] Date the frame becomes public       "
            ]
          },
          "metadata": {},
          "execution_count": 35
        }
      ]
    },
    {
      "cell_type": "code",
      "source": [
        "hdu_image=hdu[1]"
      ],
      "metadata": {
        "id": "RExeYiwkmazo"
      },
      "execution_count": null,
      "outputs": []
    },
    {
      "cell_type": "code",
      "source": [
        "hdu_image.data"
      ],
      "metadata": {
        "colab": {
          "base_uri": "https://localhost:8080/"
        },
        "id": "KIuImDrgmvT_",
        "outputId": "5c262f53-94ab-46ad-8707-c989b265d732"
      },
      "execution_count": null,
      "outputs": [
        {
          "output_type": "execute_result",
          "data": {
            "text/plain": [
              "array([[38.474937 , 35.951626 , 60.01432  , ..., 40.788097 , 35.789665 ,\n",
              "        33.170456 ],\n",
              "       [29.576515 , 32.358665 , 58.698143 , ..., 56.743656 , 39.642708 ,\n",
              "        58.806675 ],\n",
              "       [35.931316 , 28.09726  , 51.91335  , ..., 73.13852  , 44.73877  ,\n",
              "        15.5933895],\n",
              "       ...,\n",
              "       [34.891922 , 51.518715 , 67.53843  , ..., 37.705406 , 10.633944 ,\n",
              "        61.036953 ],\n",
              "       [74.61682  , 46.723473 , 24.506798 , ..., 55.486965 , 37.178455 ,\n",
              "        37.645603 ],\n",
              "       [52.804256 , 32.5836   , 10.460372 , ..., 31.945774 , 35.151527 ,\n",
              "        40.742584 ]], dtype=float32)"
            ]
          },
          "metadata": {},
          "execution_count": 28
        }
      ]
    },
    {
      "cell_type": "code",
      "source": [
        "plt.imshow(hdu_image.data, origin='lower', cmap='gray', alpha=0.9)\n",
        "plt.colorbar()"
      ],
      "metadata": {
        "colab": {
          "base_uri": "https://localhost:8080/",
          "height": 423
        },
        "id": "sGuTLtxPnF8u",
        "outputId": "e626853f-7847-4904-e2a5-766057ab445d"
      },
      "execution_count": null,
      "outputs": [
        {
          "output_type": "execute_result",
          "data": {
            "text/plain": [
              "<matplotlib.colorbar.Colorbar at 0x7b8979277c40>"
            ]
          },
          "metadata": {},
          "execution_count": 29
        },
        {
          "output_type": "display_data",
          "data": {
            "text/plain": [
              "<Figure size 640x480 with 2 Axes>"
            ],
            "image/png": "[encoded data removed]"
          },
          "metadata": {}
        }
      ]
    },
    {
      "cell_type": "code",
      "source": [
        "plt.imshow(hdu_image.data, origin='lower', cmap='inferno', alpha=0.85) # plasma, magma, cividis\n",
        "plt.colorbar()"
      ],
      "metadata": {
        "colab": {
          "base_uri": "https://localhost:8080/",
          "height": 423
        },
        "id": "qg5v1CQ6oFCE",
        "outputId": "c6369a11-7e3d-4460-c5b8-542d4f5b710e"
      },
      "execution_count": null,
      "outputs": [
        {
          "output_type": "execute_result",
          "data": {
            "text/plain": [
              "<matplotlib.colorbar.Colorbar at 0x7b89753036a0>"
            ]
          },
          "metadata": {},
          "execution_count": 30
        },
        {
          "output_type": "display_data",
          "data": {
            "text/plain": [
              "<Figure size 640x480 with 2 Axes>"
            ],
            "image/png": "[encoded data removed]"
          },
          "metadata": {}
        }
      ]
    }
  ]
}